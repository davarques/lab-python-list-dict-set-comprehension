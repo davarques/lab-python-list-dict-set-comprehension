{
  "nbformat": 4,
  "nbformat_minor": 0,
  "metadata": {
    "colab": {
      "provenance": []
    },
    "kernelspec": {
      "name": "python3",
      "display_name": "Python 3"
    },
    "language_info": {
      "name": "python"
    }
  },
  "cells": [
    {
      "cell_type": "markdown",
      "source": [
        "##Lab | List, Dict and Set Comprehension\n",
        "\n",
        "###Exercise: Managing Customer Orders Optimized with Comprehension"
      ],
      "metadata": {
        "id": "yHmZ5lEBKhGJ"
      }
    },
    {
      "cell_type": "markdown",
      "source": [
        "####Task: Appliying comprehension to simplify and streamline code in previous functions"
      ],
      "metadata": {
        "id": "WzRDvy-6Lx6i"
      }
    },
    {
      "cell_type": "code",
      "source": [
        "# Producst list\n",
        "products = [\"t-shirt\", \"mug\", \"hat\", \"book\", \"keychain\"]"
      ],
      "metadata": {
        "id": "ppyYSfKRKyYL"
      },
      "execution_count": null,
      "outputs": []
    },
    {
      "cell_type": "code",
      "source": [
        "# 1.1 Original \"initialize_inventory\" function:\n",
        "\n",
        "def initialize_inventory():\n",
        "  print(\"How many products do you want?\")\n",
        "  product1 = int(input(\"t-shirts: \"))\n",
        "  product2 = int(input(\"mug: \"))\n",
        "  product3 = int(input(\"hat: \"))\n",
        "  product4 = int(input(\"book: \"))\n",
        "  product5 = int(input(\"keychain: \"))\n",
        "\n",
        "  customer_order = {'t-shirt': product1, 'mug': product2, 'hat': product3, 'book': product4, 'keychain': product5 }\n",
        "  return customer_order"
      ],
      "metadata": {
        "id": "82DnBuivLs5u"
      },
      "execution_count": null,
      "outputs": []
    },
    {
      "cell_type": "code",
      "source": [
        "# New \"initialize_inventory\" function:\n",
        "\n",
        "new_initiate_inventory = [int(input(f\"How many {product} do you want?: \")) for product in products]\n",
        "\n",
        "new_initiate_dict = dict(zip(products, new_initiate_inventory))\n",
        "print(\"Inventory Dictionary:\")\n",
        "print(new_initiate_dict)"
      ],
      "metadata": {
        "colab": {
          "base_uri": "https://localhost:8080/"
        },
        "id": "Ue79_pVZMNeb",
        "outputId": "39b085e5-4b82-4593-91ba-4168ec0370c4"
      },
      "execution_count": null,
      "outputs": [
        {
          "output_type": "stream",
          "name": "stdout",
          "text": [
            "How many t-shirt do you want?: 5\n",
            "How many mug do you want?: 4\n",
            "How many hat do you want?: 6\n",
            "How many book do you want?: 23\n",
            "How many keychain do you want?: 4\n",
            "Inventory Dictionary:\n",
            "{'t-shirt': 5, 'mug': 4, 'hat': 6, 'book': 23, 'keychain': 4}\n"
          ]
        }
      ]
    },
    {
      "cell_type": "code",
      "source": [
        "# 1.2 Original \"Updating inventory\" function:\n",
        "\n",
        "def update_inventory():\n",
        "  first_response = input(\"Do you want to update your last order? yes or no \")\n",
        "  if first_response == 'yes':\n",
        "    inventory = initialize_inventory()\n",
        "    return inventory\n",
        "\n",
        "  else:\n",
        "    print(\"Your last order hasn't been cahnged\")"
      ],
      "metadata": {
        "id": "0mc--hA9OShT"
      },
      "execution_count": null,
      "outputs": []
    },
    {
      "cell_type": "code",
      "source": [
        "# New \"Updating inventory\" function:\n",
        "\n",
        "choice = input(\"Do you want to update your last order? yes or no \")\n",
        "\n",
        "new_update_inventory = [initialize_inventory() if choice == 'yes' else None]\n",
        "\n",
        "new_inventory_dict = dict(zip(products, new_update_inventory))\n",
        "print(\"Your updated order is:\")\n",
        "print(new_inventory_dict)"
      ],
      "metadata": {
        "colab": {
          "base_uri": "https://localhost:8080/"
        },
        "id": "C9tspjGqOpmr",
        "outputId": "9dc03492-cd42-4db1-ac70-eac7b8a2a304"
      },
      "execution_count": null,
      "outputs": [
        {
          "output_type": "stream",
          "name": "stdout",
          "text": [
            "Do you want to update your last order? yes or no yes\n",
            "How many products do you want?\n",
            "t-shirts: 8\n",
            "mug: 23\n",
            "hat: 64\n",
            "book: 15\n",
            "keychain: 7\n",
            "Your updated order is:\n",
            "{'t-shirt': {'t-shirt': 8, 'mug': 23, 'hat': 64, 'book': 15, 'keychain': 7}}\n"
          ]
        }
      ]
    },
    {
      "cell_type": "markdown",
      "source": [
        "#### Task: Modify the function 'get_customer_orders' using comprehension."
      ],
      "metadata": {
        "id": "znk066-DmOm9"
      }
    },
    {
      "cell_type": "code",
      "source": [
        "# Orginal 'get_cutomer_orders' function:\n",
        "\n",
        "def get_customer_order(products):\n",
        "  products_ordered = {}\n",
        "\n",
        "  print(\"Welcome to our shop!\")\n",
        "  print(f\"\\nWe have the following products available: {products}\")\n",
        "  print(\"\\nPlease enter what you want and then the quantity. You can type 'stop' to finish your order\")\n",
        "\n",
        "  while True:\n",
        "    customer_choice = input(\"\\nEnter the porduct name you want: \")\n",
        "\n",
        "    if customer_choice == 'stop':\n",
        "      break\n",
        "\n",
        "    elif customer_choice in products:\n",
        "      quantity = int(input(\"Enter a quantity: \"))\n",
        "      if customer_choice in products_ordered:\n",
        "        products_ordered[customer_choice] += quantity\n",
        "      else:\n",
        "        products_ordered[customer_choice] = quantity\n",
        "\n",
        "  return print(f\"Your order is {products_ordered}\")"
      ],
      "metadata": {
        "id": "VpxPZsyPmiXE"
      },
      "execution_count": null,
      "outputs": []
    },
    {
      "cell_type": "code",
      "source": [
        "get_customer_order(products)"
      ],
      "metadata": {
        "colab": {
          "base_uri": "https://localhost:8080/"
        },
        "id": "Data7RJd9GVT",
        "outputId": "f1d06127-e8cf-4b76-ede2-8c75d1f2888f"
      },
      "execution_count": null,
      "outputs": [
        {
          "output_type": "stream",
          "name": "stdout",
          "text": [
            "Welcome to our shop!\n",
            "\n",
            "We have the following products available: ['t-shirt', 'mug', 'hat', 'book', 'keychain']\n",
            "\n",
            "Please enter what you want and then the quantity. You can type 'stop' to finish your order\n",
            "\n",
            "Enter the porduct name you want: hat\n",
            "Enter a quantity: 8\n",
            "\n",
            "Enter the porduct name you want: mug\n",
            "Enter a quantity: 9\n",
            "\n",
            "Enter the porduct name you want: stop\n",
            "Your order is {'hat': 8, 'mug': 9}\n"
          ]
        }
      ]
    },
    {
      "cell_type": "markdown",
      "source": [
        "#### Task: Using comprehension to calculate the total price:"
      ],
      "metadata": {
        "id": "v8VChvwBJBKC"
      }
    },
    {
      "cell_type": "code",
      "source": [
        "# Original 'calculate total price' function:\n",
        "\n",
        "def calculate_total_price(products):\n",
        "    customer_order = {}\n",
        "\n",
        "    for product in products:\n",
        "        ask = int(input(f\"\\nWhat's the price of {product} (in euros): \"))\n",
        "        while ask <= 0:\n",
        "            print(\"Invalid price! It cannot be 0 or negative\")\n",
        "            ask = int(input(f\"\\nWhat's the price of {product} (in euros): \"))\n",
        "        print(\"\\nPrice recorded, thanks\")\n",
        "        customer_order[product] = ask\n",
        "\n",
        "    result = sum(customer_order.values())\n",
        "    print(f\"\\nThe total price of your customer order is: {result}\")"
      ],
      "metadata": {
        "id": "OZqef9tFJPin"
      },
      "execution_count": null,
      "outputs": []
    },
    {
      "cell_type": "code",
      "source": [
        "calculate_total_price(products)"
      ],
      "metadata": {
        "colab": {
          "base_uri": "https://localhost:8080/"
        },
        "id": "Z8CSQ87dJ-nk",
        "outputId": "519da44f-317e-42d3-df02-958195bdd1e7"
      },
      "execution_count": null,
      "outputs": [
        {
          "output_type": "stream",
          "name": "stdout",
          "text": [
            "\n",
            "What's the price of t-shirt (in euros): 23\n",
            "\n",
            "Price recorded, thanks\n",
            "\n",
            "What's the price of mug (in euros): 7\n",
            "\n",
            "Price recorded, thanks\n",
            "\n",
            "What's the price of hat (in euros): 12\n",
            "\n",
            "Price recorded, thanks\n",
            "\n",
            "What's the price of book (in euros): 23\n",
            "\n",
            "Price recorded, thanks\n",
            "\n",
            "What's the price of keychain (in euros): 11\n",
            "\n",
            "Price recorded, thanks\n",
            "\n",
            "The total price of your customer order is: 76\n"
          ]
        }
      ]
    },
    {
      "cell_type": "code",
      "source": [
        "# New Calculate total price:\n",
        "\n",
        "new_calculate_price = [int(input(f\"\\nWhat's the price of {product} (in euros): \"))for product in products]\n",
        "\n",
        "new_result = sum(new_calculate_price)\n",
        "print(f\"\\nThe total price of your customer order is: {new_result}\")"
      ],
      "metadata": {
        "colab": {
          "base_uri": "https://localhost:8080/"
        },
        "id": "p0NYXo7tKIzZ",
        "outputId": "ca5d2bdc-4503-49f6-b03f-3bd2596fbdca"
      },
      "execution_count": null,
      "outputs": [
        {
          "output_type": "stream",
          "name": "stdout",
          "text": [
            "\n",
            "What's the price of t-shirt (in euros): 12\n",
            "\n",
            "What's the price of mug (in euros): 23\n",
            "\n",
            "What's the price of hat (in euros): 8\n",
            "\n",
            "What's the price of book (in euros): 12\n",
            "\n",
            "What's the price of keychain (in euros): 3\n",
            "\n",
            "The total price of your customer order is: 58\n"
          ]
        }
      ]
    }
  ]
}